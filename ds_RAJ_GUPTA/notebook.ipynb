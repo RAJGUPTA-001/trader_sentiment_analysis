{
 "cells": [
  {
   "cell_type": "markdown",
   "id": "MtrqSY_THiSr",
   "metadata": {
    "id": "MtrqSY_THiSr"
   },
   "source": [
    "# LIBRARY AND DATA IMPORTS"
   ]
  },
  {
   "cell_type": "code",
   "execution_count": 1,
   "id": "MnLnzUglSyeM",
   "metadata": {
    "executionInfo": {
     "elapsed": 5,
     "status": "ok",
     "timestamp": 1758911667790,
     "user": {
      "displayName": "Raj gupta",
      "userId": "08186548929443760862"
     },
     "user_tz": -330
    },
    "id": "MnLnzUglSyeM"
   },
   "outputs": [],
   "source": [
    "import  os\n",
    "(os.makedirs('ds_RAJ_GUPTA/csv_files', exist_ok=True))\n",
    "(os.makedirs('ds_RAJ_GUPTA/outputs', exist_ok=True))"
   ]
  },
  {
   "cell_type": "code",
   "execution_count": 2,
   "id": "OMEWX6uQse7f",
   "metadata": {
    "colab": {
     "base_uri": "https://localhost:8080/"
    },
    "executionInfo": {
     "elapsed": 5304,
     "status": "ok",
     "timestamp": 1758911673102,
     "user": {
      "displayName": "Raj gupta",
      "userId": "08186548929443760862"
     },
     "user_tz": -330
    },
    "id": "OMEWX6uQse7f",
    "outputId": "a8a459ab-fdd2-45e0-a146-7ecb34e0568d"
   },
   "outputs": [
    {
     "name": "stderr",
     "output_type": "stream",
     "text": [
      "Downloading...\n",
      "From: https://drive.google.com/uc?id=1PgQC0tO8XN-wqkNyghWc_-mnrYv_nhSf\n",
      "To: c:\\Users\\rajgu\\programming\\ds_RAJ_GUPTA\\ds_RAJ_GUPTA\\csv_files\\fear_greed_index.csv\n",
      "100%|██████████| 90.8k/90.8k [00:00<00:00, 613kB/s]\n",
      "Downloading...\n",
      "From: https://drive.google.com/uc?id=1IAfLZwu6rJzyWKgBToqwSmmVYU6VbjVs\n",
      "To: c:\\Users\\rajgu\\programming\\ds_RAJ_GUPTA\\ds_RAJ_GUPTA\\csv_files\\historical_data.csv\n",
      "100%|██████████| 47.5M/47.5M [00:02<00:00, 17.0MB/s]\n"
     ]
    }
   ],
   "source": [
    "import pandas as pd\n",
    "import numpy as np\n",
    "import matplotlib.pyplot as plt\n",
    "import seaborn as sns\n",
    "from datetime import datetime, timedelta\n",
    "from sklearn.preprocessing import StandardScaler\n",
    "from sklearn.cluster import KMeans\n",
    "from sklearn.ensemble import RandomForestRegressor\n",
    "from sklearn.model_selection import train_test_split\n",
    "from sklearn.metrics import mean_squared_error, r2_score\n",
    "import scipy.stats as stats\n",
    "import os\n",
    "import warnings\n",
    "warnings.filterwarnings('ignore')\n",
    "\n",
    "\n",
    "\n",
    "\n",
    "# https://drive.google.com/file/d/1PgQC0tO8XN-wqkNyghWc_-mnrYv_nhSf/view?usp=sharing  - \"fear-greed\"\n",
    "\n",
    "# https://drive.google.com/file/d/1IAfLZwu6rJzyWKgBToqwSmmVYU6VbjVs/view?usp=sharing  - \"historical\"\n",
    "\n",
    "\n",
    "\n",
    "\n",
    "import gdown\n",
    "\n",
    "file_id = \"1PgQC0tO8XN-wqkNyghWc_-mnrYv_nhSf\"  # fear-greed\n",
    "gdown.download(f\"https://drive.google.com/uc?id={file_id}\", \"ds_RAJ_GUPTA/csv_files/fear_greed_index.csv\", quiet=False)\n",
    "\n",
    "file_id = \"1IAfLZwu6rJzyWKgBToqwSmmVYU6VbjVs\"  # historical\n",
    "gdown.download(f\"https://drive.google.com/uc?id={file_id}\", \"ds_RAJ_GUPTA/csv_files/historical_data.csv\", quiet=False)\n",
    "\n",
    "\n",
    "\n",
    "\n",
    "\n",
    "\n",
    "# Load fear & greed data\n",
    "fear_greed_df = pd.read_csv('ds_RAJ_GUPTA/csv_files/fear_greed_index.csv')\n",
    "\n",
    "# Load trading data\n",
    "trading_df = pd.read_csv('ds_RAJ_GUPTA/csv_files/historical_data.csv')\n"
   ]
  },
  {
   "cell_type": "code",
   "execution_count": 3,
   "id": "3JGVWL10Fif5",
   "metadata": {
    "colab": {
     "base_uri": "https://localhost:8080/",
     "height": 0
    },
    "executionInfo": {
     "elapsed": 34,
     "status": "ok",
     "timestamp": 1758911673139,
     "user": {
      "displayName": "Raj gupta",
      "userId": "08186548929443760862"
     },
     "user_tz": -330
    },
    "id": "3JGVWL10Fif5",
    "outputId": "26a36229-aedc-4b7a-ad8d-ba855785067e"
   },
   "outputs": [
    {
     "data": {
      "application/vnd.microsoft.datawrangler.viewer.v0+json": {
       "columns": [
        {
         "name": "index",
         "rawType": "object",
         "type": "string"
        },
        {
         "name": "timestamp",
         "rawType": "float64",
         "type": "float"
        },
        {
         "name": "value",
         "rawType": "float64",
         "type": "float"
        }
       ],
       "ref": "e3dcc9d7-06e3-4b51-ab39-f09ac5d957dd",
       "rows": [
        [
         "count",
         "2644.0",
         "2644.0"
        ],
        [
         "mean",
         "1631898885.022693",
         "46.981089258698944"
        ],
        [
         "std",
         "65979674.322217815",
         "21.827680088219388"
        ],
        [
         "min",
         "1517463000.0",
         "5.0"
        ],
        [
         "25%",
         "1574811000.0",
         "28.0"
        ],
        [
         "50%",
         "1631899800.0",
         "46.0"
        ],
        [
         "75%",
         "1688988600.0",
         "66.0"
        ],
        [
         "max",
         "1746163800.0",
         "95.0"
        ]
       ],
       "shape": {
        "columns": 2,
        "rows": 8
       }
      },
      "text/html": [
       "<div>\n",
       "<style scoped>\n",
       "    .dataframe tbody tr th:only-of-type {\n",
       "        vertical-align: middle;\n",
       "    }\n",
       "\n",
       "    .dataframe tbody tr th {\n",
       "        vertical-align: top;\n",
       "    }\n",
       "\n",
       "    .dataframe thead th {\n",
       "        text-align: right;\n",
       "    }\n",
       "</style>\n",
       "<table border=\"1\" class=\"dataframe\">\n",
       "  <thead>\n",
       "    <tr style=\"text-align: right;\">\n",
       "      <th></th>\n",
       "      <th>timestamp</th>\n",
       "      <th>value</th>\n",
       "    </tr>\n",
       "  </thead>\n",
       "  <tbody>\n",
       "    <tr>\n",
       "      <th>count</th>\n",
       "      <td>2.644000e+03</td>\n",
       "      <td>2644.000000</td>\n",
       "    </tr>\n",
       "    <tr>\n",
       "      <th>mean</th>\n",
       "      <td>1.631899e+09</td>\n",
       "      <td>46.981089</td>\n",
       "    </tr>\n",
       "    <tr>\n",
       "      <th>std</th>\n",
       "      <td>6.597967e+07</td>\n",
       "      <td>21.827680</td>\n",
       "    </tr>\n",
       "    <tr>\n",
       "      <th>min</th>\n",
       "      <td>1.517463e+09</td>\n",
       "      <td>5.000000</td>\n",
       "    </tr>\n",
       "    <tr>\n",
       "      <th>25%</th>\n",
       "      <td>1.574811e+09</td>\n",
       "      <td>28.000000</td>\n",
       "    </tr>\n",
       "    <tr>\n",
       "      <th>50%</th>\n",
       "      <td>1.631900e+09</td>\n",
       "      <td>46.000000</td>\n",
       "    </tr>\n",
       "    <tr>\n",
       "      <th>75%</th>\n",
       "      <td>1.688989e+09</td>\n",
       "      <td>66.000000</td>\n",
       "    </tr>\n",
       "    <tr>\n",
       "      <th>max</th>\n",
       "      <td>1.746164e+09</td>\n",
       "      <td>95.000000</td>\n",
       "    </tr>\n",
       "  </tbody>\n",
       "</table>\n",
       "</div>"
      ],
      "text/plain": [
       "          timestamp        value\n",
       "count  2.644000e+03  2644.000000\n",
       "mean   1.631899e+09    46.981089\n",
       "std    6.597967e+07    21.827680\n",
       "min    1.517463e+09     5.000000\n",
       "25%    1.574811e+09    28.000000\n",
       "50%    1.631900e+09    46.000000\n",
       "75%    1.688989e+09    66.000000\n",
       "max    1.746164e+09    95.000000"
      ]
     },
     "execution_count": 3,
     "metadata": {},
     "output_type": "execute_result"
    }
   ],
   "source": [
    "fear_greed_df.describe()"
   ]
  },
  {
   "cell_type": "code",
   "execution_count": 4,
   "id": "1m161VzaFoOF",
   "metadata": {
    "colab": {
     "base_uri": "https://localhost:8080/",
     "height": 0
    },
    "executionInfo": {
     "elapsed": 83,
     "status": "ok",
     "timestamp": 1758911673226,
     "user": {
      "displayName": "Raj gupta",
      "userId": "08186548929443760862"
     },
     "user_tz": -330
    },
    "id": "1m161VzaFoOF",
    "outputId": "b41943d0-ed37-4b30-dc96-6358f56e50c1"
   },
   "outputs": [
    {
     "data": {
      "application/vnd.microsoft.datawrangler.viewer.v0+json": {
       "columns": [
        {
         "name": "index",
         "rawType": "object",
         "type": "string"
        },
        {
         "name": "Execution Price",
         "rawType": "float64",
         "type": "float"
        },
        {
         "name": "Size Tokens",
         "rawType": "float64",
         "type": "float"
        },
        {
         "name": "Size USD",
         "rawType": "float64",
         "type": "float"
        },
        {
         "name": "Start Position",
         "rawType": "float64",
         "type": "float"
        },
        {
         "name": "Closed PnL",
         "rawType": "float64",
         "type": "float"
        },
        {
         "name": "Order ID",
         "rawType": "float64",
         "type": "float"
        },
        {
         "name": "Fee",
         "rawType": "float64",
         "type": "float"
        },
        {
         "name": "Trade ID",
         "rawType": "float64",
         "type": "float"
        },
        {
         "name": "Timestamp",
         "rawType": "float64",
         "type": "float"
        }
       ],
       "ref": "5d0a70c3-139b-424a-ac19-65a5273f2bd4",
       "rows": [
        [
         "count",
         "211224.0",
         "211224.0",
         "211224.0",
         "211224.0",
         "211224.0",
         "211224.0",
         "211224.0",
         "211224.0",
         "211224.0"
        ],
        [
         "mean",
         "11414.723349993757",
         "4623.364978782207",
         "5639.4512103738225",
         "-29946.2488391739",
         "48.74900079269401",
         "69653876008.97021",
         "1.163966786755912",
         "562854854500788.5",
         "1737744290421.543"
        ],
        [
         "std",
         "29447.65486834782",
         "104272.88952999798",
         "36575.13854640004",
         "673807.4237357359",
         "919.1648281980404",
         "18357525271.92598",
         "6.758854383337145",
         "325756470346550.3",
         "8689920301.56609"
        ],
        [
         "min",
         "4.53e-06",
         "8.74e-07",
         "0.0",
         "-14334629.0",
         "-117990.1041",
         "173271100.0",
         "-1.175712",
         "0.0",
         "1680000000000.0"
        ],
        [
         "25%",
         "4.8547",
         "2.94",
         "193.79",
         "-376.23107500000003",
         "0.0",
         "59838527992.75",
         "0.0161209375",
         "281000000000000.0",
         "1740000000000.0"
        ],
        [
         "50%",
         "18.28",
         "32.0",
         "597.0450000000001",
         "84.727931935",
         "0.0",
         "74429390066.0",
         "0.0895775",
         "562000000000000.0",
         "1740000000000.0"
        ],
        [
         "75%",
         "101.58",
         "187.9025",
         "2058.96",
         "9337.2775",
         "5.79279675",
         "83355430544.0",
         "0.393811",
         "846000000000000.0",
         "1740000000000.0"
        ],
        [
         "max",
         "109004.0",
         "15822438.0",
         "3921430.72",
         "30509482.0",
         "135329.0901",
         "90149230487.0",
         "837.471593",
         "1130000000000000.0",
         "1750000000000.0"
        ]
       ],
       "shape": {
        "columns": 9,
        "rows": 8
       }
      },
      "text/html": [
       "<div>\n",
       "<style scoped>\n",
       "    .dataframe tbody tr th:only-of-type {\n",
       "        vertical-align: middle;\n",
       "    }\n",
       "\n",
       "    .dataframe tbody tr th {\n",
       "        vertical-align: top;\n",
       "    }\n",
       "\n",
       "    .dataframe thead th {\n",
       "        text-align: right;\n",
       "    }\n",
       "</style>\n",
       "<table border=\"1\" class=\"dataframe\">\n",
       "  <thead>\n",
       "    <tr style=\"text-align: right;\">\n",
       "      <th></th>\n",
       "      <th>Execution Price</th>\n",
       "      <th>Size Tokens</th>\n",
       "      <th>Size USD</th>\n",
       "      <th>Start Position</th>\n",
       "      <th>Closed PnL</th>\n",
       "      <th>Order ID</th>\n",
       "      <th>Fee</th>\n",
       "      <th>Trade ID</th>\n",
       "      <th>Timestamp</th>\n",
       "    </tr>\n",
       "  </thead>\n",
       "  <tbody>\n",
       "    <tr>\n",
       "      <th>count</th>\n",
       "      <td>211224.000000</td>\n",
       "      <td>2.112240e+05</td>\n",
       "      <td>2.112240e+05</td>\n",
       "      <td>2.112240e+05</td>\n",
       "      <td>211224.000000</td>\n",
       "      <td>2.112240e+05</td>\n",
       "      <td>211224.000000</td>\n",
       "      <td>2.112240e+05</td>\n",
       "      <td>2.112240e+05</td>\n",
       "    </tr>\n",
       "    <tr>\n",
       "      <th>mean</th>\n",
       "      <td>11414.723350</td>\n",
       "      <td>4.623365e+03</td>\n",
       "      <td>5.639451e+03</td>\n",
       "      <td>-2.994625e+04</td>\n",
       "      <td>48.749001</td>\n",
       "      <td>6.965388e+10</td>\n",
       "      <td>1.163967</td>\n",
       "      <td>5.628549e+14</td>\n",
       "      <td>1.737744e+12</td>\n",
       "    </tr>\n",
       "    <tr>\n",
       "      <th>std</th>\n",
       "      <td>29447.654868</td>\n",
       "      <td>1.042729e+05</td>\n",
       "      <td>3.657514e+04</td>\n",
       "      <td>6.738074e+05</td>\n",
       "      <td>919.164828</td>\n",
       "      <td>1.835753e+10</td>\n",
       "      <td>6.758854</td>\n",
       "      <td>3.257565e+14</td>\n",
       "      <td>8.689920e+09</td>\n",
       "    </tr>\n",
       "    <tr>\n",
       "      <th>min</th>\n",
       "      <td>0.000005</td>\n",
       "      <td>8.740000e-07</td>\n",
       "      <td>0.000000e+00</td>\n",
       "      <td>-1.433463e+07</td>\n",
       "      <td>-117990.104100</td>\n",
       "      <td>1.732711e+08</td>\n",
       "      <td>-1.175712</td>\n",
       "      <td>0.000000e+00</td>\n",
       "      <td>1.680000e+12</td>\n",
       "    </tr>\n",
       "    <tr>\n",
       "      <th>25%</th>\n",
       "      <td>4.854700</td>\n",
       "      <td>2.940000e+00</td>\n",
       "      <td>1.937900e+02</td>\n",
       "      <td>-3.762311e+02</td>\n",
       "      <td>0.000000</td>\n",
       "      <td>5.983853e+10</td>\n",
       "      <td>0.016121</td>\n",
       "      <td>2.810000e+14</td>\n",
       "      <td>1.740000e+12</td>\n",
       "    </tr>\n",
       "    <tr>\n",
       "      <th>50%</th>\n",
       "      <td>18.280000</td>\n",
       "      <td>3.200000e+01</td>\n",
       "      <td>5.970450e+02</td>\n",
       "      <td>8.472793e+01</td>\n",
       "      <td>0.000000</td>\n",
       "      <td>7.442939e+10</td>\n",
       "      <td>0.089578</td>\n",
       "      <td>5.620000e+14</td>\n",
       "      <td>1.740000e+12</td>\n",
       "    </tr>\n",
       "    <tr>\n",
       "      <th>75%</th>\n",
       "      <td>101.580000</td>\n",
       "      <td>1.879025e+02</td>\n",
       "      <td>2.058960e+03</td>\n",
       "      <td>9.337278e+03</td>\n",
       "      <td>5.792797</td>\n",
       "      <td>8.335543e+10</td>\n",
       "      <td>0.393811</td>\n",
       "      <td>8.460000e+14</td>\n",
       "      <td>1.740000e+12</td>\n",
       "    </tr>\n",
       "    <tr>\n",
       "      <th>max</th>\n",
       "      <td>109004.000000</td>\n",
       "      <td>1.582244e+07</td>\n",
       "      <td>3.921431e+06</td>\n",
       "      <td>3.050948e+07</td>\n",
       "      <td>135329.090100</td>\n",
       "      <td>9.014923e+10</td>\n",
       "      <td>837.471593</td>\n",
       "      <td>1.130000e+15</td>\n",
       "      <td>1.750000e+12</td>\n",
       "    </tr>\n",
       "  </tbody>\n",
       "</table>\n",
       "</div>"
      ],
      "text/plain": [
       "       Execution Price   Size Tokens      Size USD  Start Position  \\\n",
       "count    211224.000000  2.112240e+05  2.112240e+05    2.112240e+05   \n",
       "mean      11414.723350  4.623365e+03  5.639451e+03   -2.994625e+04   \n",
       "std       29447.654868  1.042729e+05  3.657514e+04    6.738074e+05   \n",
       "min           0.000005  8.740000e-07  0.000000e+00   -1.433463e+07   \n",
       "25%           4.854700  2.940000e+00  1.937900e+02   -3.762311e+02   \n",
       "50%          18.280000  3.200000e+01  5.970450e+02    8.472793e+01   \n",
       "75%         101.580000  1.879025e+02  2.058960e+03    9.337278e+03   \n",
       "max      109004.000000  1.582244e+07  3.921431e+06    3.050948e+07   \n",
       "\n",
       "          Closed PnL      Order ID            Fee      Trade ID     Timestamp  \n",
       "count  211224.000000  2.112240e+05  211224.000000  2.112240e+05  2.112240e+05  \n",
       "mean       48.749001  6.965388e+10       1.163967  5.628549e+14  1.737744e+12  \n",
       "std       919.164828  1.835753e+10       6.758854  3.257565e+14  8.689920e+09  \n",
       "min   -117990.104100  1.732711e+08      -1.175712  0.000000e+00  1.680000e+12  \n",
       "25%         0.000000  5.983853e+10       0.016121  2.810000e+14  1.740000e+12  \n",
       "50%         0.000000  7.442939e+10       0.089578  5.620000e+14  1.740000e+12  \n",
       "75%         5.792797  8.335543e+10       0.393811  8.460000e+14  1.740000e+12  \n",
       "max    135329.090100  9.014923e+10     837.471593  1.130000e+15  1.750000e+12  "
      ]
     },
     "execution_count": 4,
     "metadata": {},
     "output_type": "execute_result"
    }
   ],
   "source": [
    "trading_df.describe()"
   ]
  },
  {
   "cell_type": "markdown",
   "id": "Yn8cyrZLF6SQ",
   "metadata": {
    "id": "Yn8cyrZLF6SQ"
   },
   "source": [
    "# DATA PREPROCESSING"
   ]
  },
  {
   "cell_type": "code",
   "execution_count": 5,
   "id": "wRHmg4ZiF-W5",
   "metadata": {
    "colab": {
     "base_uri": "https://localhost:8080/"
    },
    "executionInfo": {
     "elapsed": 261,
     "status": "ok",
     "timestamp": 1758911673489,
     "user": {
      "displayName": "Raj gupta",
      "userId": "08186548929443760862"
     },
     "user_tz": -330
    },
    "id": "wRHmg4ZiF-W5",
    "outputId": "1c08f65c-a828-4c41-a7f8-b214cf315f16"
   },
   "outputs": [
    {
     "name": "stdout",
     "output_type": "stream",
     "text": [
      "✅ Data preprocessing completed\n",
      "Fear & Greed date range: 2018-02-01 to 2025-05-02\n",
      "Trading data date range: 2023-05-01 to 2025-05-01\n"
     ]
    }
   ],
   "source": [
    "\n",
    "# Process Fear & Greed data\n",
    "fear_greed_df['date_parsed'] = pd.to_datetime(fear_greed_df['date'])\n",
    "fear_greed_df['year'] = fear_greed_df['date_parsed'].dt.year\n",
    "fear_greed_df['month'] = fear_greed_df['date_parsed'].dt.month\n",
    "fear_greed_df['sentiment_normalized'] = (fear_greed_df['value'] - 50) / 50  # -1 to +1 scale\n",
    "\n",
    "# Add sentiment momentum\n",
    "fear_greed_df = fear_greed_df.sort_values('date_parsed').copy()\n",
    "fear_greed_df['sentiment_change_1d'] = fear_greed_df['value'].diff(1)\n",
    "fear_greed_df['sentiment_change_7d'] = fear_greed_df['value'].diff(7)\n",
    "fear_greed_df['sentiment_ma_7d'] = fear_greed_df['value'].rolling(7).mean()\n",
    "fear_greed_df['sentiment_volatility_30d'] = fear_greed_df['value'].rolling(30).std()\n",
    "\n",
    "# Process Trading data\n",
    "trading_df['timestamp_cleaned'] = pd.to_datetime(trading_df['Timestamp IST'],\n",
    "                                                format='%d-%m-%Y %H:%M', errors='coerce')\n",
    "trading_df['date'] = trading_df['timestamp_cleaned'].dt.date\n",
    "trading_df['date_parsed'] = pd.to_datetime(trading_df['date'])\n",
    "trading_df['hour'] = trading_df['timestamp_cleaned'].dt.hour\n",
    "\n",
    "# Handle missing values\n",
    "numeric_columns = ['Closed PnL', 'Size USD', 'Size Tokens', 'Fee']\n",
    "for col in numeric_columns:\n",
    "    if col in trading_df.columns:\n",
    "        trading_df[col] = pd.to_numeric(trading_df[col], errors='coerce').fillna(0)\n",
    "\n",
    "print(\"✅ Data preprocessing completed\")\n",
    "print(f\"Fear & Greed date range: {fear_greed_df['date'].min()} to {fear_greed_df['date'].max()}\")\n",
    "print(f\"Trading data date range: {trading_df['date'].min()} to {trading_df['date'].max()}\")"
   ]
  },
  {
   "cell_type": "markdown",
   "id": "ft69FlEbGBuZ",
   "metadata": {
    "id": "ft69FlEbGBuZ"
   },
   "source": [
    "#FEATURE ENGINEERING"
   ]
  },
  {
   "cell_type": "code",
   "execution_count": 6,
   "id": "718WNeexGNNC",
   "metadata": {
    "colab": {
     "base_uri": "https://localhost:8080/"
    },
    "executionInfo": {
     "elapsed": 78,
     "status": "ok",
     "timestamp": 1758911673584,
     "user": {
      "displayName": "Raj gupta",
      "userId": "08186548929443760862"
     },
     "user_tz": -330
    },
    "id": "718WNeexGNNC",
    "outputId": "1f424382-0696-44b4-8ac4-859100e59a8d"
   },
   "outputs": [
    {
     "name": "stdout",
     "output_type": "stream",
     "text": [
      "✅ Daily trading summaries created: 480 trading days\n",
      "✅ Features engineered: 23 metrics per day\n"
     ]
    }
   ],
   "source": [
    "# Create daily trading summaries\n",
    "daily_trading = trading_df.groupby('date_parsed').agg({\n",
    "    'Size USD': ['sum', 'mean', 'count', 'std', 'min', 'max'],\n",
    "    'Closed PnL': ['sum', 'mean', 'std', 'min', 'max'],\n",
    "    'Fee': ['sum', 'mean'],\n",
    "    'Size Tokens': ['sum', 'mean'],\n",
    "    'Account': 'nunique',\n",
    "    'Coin': 'nunique'\n",
    "}).round(4)\n",
    "\n",
    "# Flatten column names\n",
    "daily_trading.columns = [f\"{col[0]}_{col[1]}\" for col in daily_trading.columns]\n",
    "daily_trading = daily_trading.reset_index()\n",
    "\n",
    "# Rename for clarity\n",
    "column_mapping = {\n",
    "    'Size USD_sum': 'daily_volume',\n",
    "    'Size USD_mean': 'avg_trade_size',\n",
    "    'Size USD_count': 'trade_count',\n",
    "    'Size USD_std': 'volume_volatility',\n",
    "    'Size USD_min': 'min_trade_size',\n",
    "    'Size USD_max': 'max_trade_size',\n",
    "    'Closed PnL_sum': 'daily_pnl',\n",
    "    'Closed PnL_mean': 'avg_pnl_per_trade',\n",
    "    'Closed PnL_std': 'pnl_volatility',\n",
    "    'Closed PnL_min': 'min_pnl',\n",
    "    'Closed PnL_max': 'max_pnl',\n",
    "    'Fee_sum': 'daily_fees',\n",
    "    'Fee_mean': 'avg_fee_per_trade',\n",
    "    'Size Tokens_sum': 'daily_tokens_traded',\n",
    "    'Size Tokens_mean': 'avg_tokens_per_trade',\n",
    "    'Account_nunique': 'unique_accounts',\n",
    "    'Coin_nunique': 'unique_coins'\n",
    "}\n",
    "\n",
    "daily_trading = daily_trading.rename(columns=column_mapping)\n",
    "\n",
    "# Add derived features\n",
    "daily_trading['pnl_ratio'] = daily_trading['daily_pnl'] / (daily_trading['daily_volume'] + 0.01)\n",
    "daily_trading['fee_ratio'] = daily_trading['daily_fees'] / (daily_trading['daily_volume'] + 0.01)\n",
    "daily_trading['avg_pnl_per_dollar'] = daily_trading['daily_pnl'] / (daily_trading['daily_volume'] + 0.01)\n",
    "daily_trading['volume_efficiency'] = daily_trading['daily_volume'] / daily_trading['trade_count']\n",
    "daily_trading['pnl_per_trade'] = daily_trading['daily_pnl'] / daily_trading['trade_count']\n",
    "\n",
    "print(f\"✅ Daily trading summaries created: {len(daily_trading)} trading days\")\n",
    "print(f\"✅ Features engineered: {len(daily_trading.columns)} metrics per day\")"
   ]
  },
  {
   "cell_type": "markdown",
   "id": "1R5INaW_GSxD",
   "metadata": {
    "id": "1R5INaW_GSxD"
   },
   "source": [
    "#DATA MERGING & CORRELATION"
   ]
  },
  {
   "cell_type": "code",
   "execution_count": 7,
   "id": "Hoa3J5ilGYFB",
   "metadata": {
    "colab": {
     "base_uri": "https://localhost:8080/"
    },
    "executionInfo": {
     "elapsed": 21,
     "status": "ok",
     "timestamp": 1758911673607,
     "user": {
      "displayName": "Raj gupta",
      "userId": "08186548929443760862"
     },
     "user_tz": -330
    },
    "id": "Hoa3J5ilGYFB",
    "outputId": "e629ea22-35ae-463b-8d25-0bdd275a06ae"
   },
   "outputs": [
    {
     "name": "stdout",
     "output_type": "stream",
     "text": [
      "✅ Datasets merged successfully: 479 overlapping days\n",
      "\n",
      "📊 KEY SENTIMENT CORRELATIONS:\n",
      "------------------------------\n",
      "value                    :  1.000 ***\n",
      "sentiment_ma_7d          :  0.922 ***\n",
      "sentiment_volatility_30d : -0.602 ***\n",
      "sentiment_change_7d      :  0.359 **\n",
      "unique_accounts          : -0.278 *\n",
      "daily_volume             : -0.264 *\n",
      "daily_fees               : -0.261 *\n",
      "trade_count              : -0.245 *\n",
      "max_trade_size           : -0.243 *\n",
      "volume_volatility        : -0.223 *\n"
     ]
    }
   ],
   "source": [
    "# Merge datasets on date\n",
    "merged_data = pd.merge(\n",
    "    daily_trading,\n",
    "    fear_greed_df[['date_parsed', 'value', 'classification', 'sentiment_normalized',\n",
    "                   'sentiment_change_1d', 'sentiment_change_7d', 'sentiment_ma_7d',\n",
    "                   'sentiment_volatility_30d']],\n",
    "    on='date_parsed',\n",
    "    how='inner'\n",
    ")\n",
    "\n",
    "print(f\"✅ Datasets merged successfully: {len(merged_data)} overlapping days\")\n",
    "\n",
    "if len(merged_data) > 0:\n",
    "    # Calculate correlation matrix\n",
    "    numeric_cols = merged_data.select_dtypes(include=[np.number]).columns\n",
    "    correlation_vars = [col for col in numeric_cols if merged_data[col].notna().sum() > 5]\n",
    "\n",
    "    if len(correlation_vars) >= 2:\n",
    "        corr_matrix = merged_data[correlation_vars].corr()\n",
    "\n",
    "        # Focus on sentiment correlations\n",
    "        sentiment_correlations = corr_matrix['sentiment_normalized'].drop('sentiment_normalized')\n",
    "        significant_correlations = sentiment_correlations[abs(sentiment_correlations) > 0.1]\n",
    "\n",
    "        print(\"\\n📊 KEY SENTIMENT CORRELATIONS:\")\n",
    "        print(\"-\" * 30)\n",
    "        for var, corr in significant_correlations.sort_values(key=abs, ascending=False).head(10).items():\n",
    "            significance = \"***\" if abs(corr) > 0.5 else \"**\" if abs(corr) > 0.3 else \"*\"\n",
    "            print(f\"{var:<25}: {corr:>6.3f} {significance}\")\n",
    "else:\n",
    "    print(\"⚠️  No overlapping dates between datasets\")"
   ]
  },
  {
   "cell_type": "markdown",
   "id": "0yQfqSaQGZuv",
   "metadata": {
    "id": "0yQfqSaQGZuv"
   },
   "source": [
    "# SENTIMENT PHASE ANALYSIS"
   ]
  },
  {
   "cell_type": "code",
   "execution_count": 8,
   "id": "xk7AsxjnGita",
   "metadata": {
    "colab": {
     "base_uri": "https://localhost:8080/"
    },
    "executionInfo": {
     "elapsed": 40,
     "status": "ok",
     "timestamp": 1758911673653,
     "user": {
      "displayName": "Raj gupta",
      "userId": "08186548929443760862"
     },
     "user_tz": -330
    },
    "id": "xk7AsxjnGita",
    "outputId": "4380a6ba-6c24-49e7-f142-8949774f73b7"
   },
   "outputs": [
    {
     "name": "stdout",
     "output_type": "stream",
     "text": [
      "\n",
      "Greed:\n",
      "  Trading Days: 193\n",
      "  Avg Volume: $1,495,246.09\n",
      "  Avg Daily P&L: $11,140.57\n",
      "  Avg Trades/Day: 260.6\n",
      "  Win Rate: 72.5%\n",
      "\n",
      "Extreme Greed:\n",
      "  Trading Days: 114\n",
      "  Avg Volume: $1,091,799.69\n",
      "  Avg Daily P&L: $23,817.29\n",
      "  Avg Trades/Day: 350.8\n",
      "  Win Rate: 87.7%\n",
      "\n",
      "Neutral:\n",
      "  Trading Days: 67\n",
      "  Avg Volume: $2,690,180.05\n",
      "  Avg Daily P&L: $19,297.32\n",
      "  Avg Trades/Day: 562.5\n",
      "  Win Rate: 67.2%\n",
      "\n",
      "Fear:\n",
      "  Trading Days: 91\n",
      "  Avg Volume: $5,311,261.43\n",
      "  Avg Daily P&L: $36,891.82\n",
      "  Avg Trades/Day: 679.5\n",
      "  Win Rate: 73.6%\n",
      "\n",
      "Extreme Fear:\n",
      "  Trading Days: 14\n",
      "  Avg Volume: $8,177,447.25\n",
      "  Avg Daily P&L: $52,793.59\n",
      "  Avg Trades/Day: 1528.6\n",
      "  Win Rate: 64.3%\n",
      "\n",
      "2. STATISTICAL SIGNIFICANCE TESTS\n",
      "-----------------------------------\n",
      "daily_volume: F=10.903, p=0.0000 ***\n",
      "daily_pnl: F=2.791, p=0.0259 *\n",
      "trade_count: F=12.491, p=0.0000 ***\n"
     ]
    }
   ],
   "source": [
    "sentiment_analysis = merged_data.groupby('classification').agg({\n",
    "    'daily_volume': ['count', 'mean', 'std', 'sum'],\n",
    "    'trade_count': ['mean', 'std', 'sum'],\n",
    "    'daily_pnl': ['mean', 'std', 'sum', 'min', 'max'],\n",
    "    'avg_trade_size': ['mean', 'std'],\n",
    "    'pnl_ratio': ['mean', 'std'],\n",
    "    'unique_accounts': ['mean', 'sum']\n",
    "}).round(4)\n",
    "\n",
    "# Flatten and display\n",
    "sentiment_summary = {}\n",
    "for sentiment in merged_data['classification'].unique():\n",
    "    if pd.notna(sentiment):\n",
    "        sentiment_data = merged_data[merged_data['classification'] == sentiment]\n",
    "        sentiment_summary[sentiment] = {\n",
    "            'days': len(sentiment_data),\n",
    "            'avg_volume': sentiment_data['daily_volume'].mean(),\n",
    "            'avg_pnl': sentiment_data['daily_pnl'].mean(),\n",
    "            'avg_trades': sentiment_data['trade_count'].mean(),\n",
    "            'total_pnl': sentiment_data['daily_pnl'].sum(),\n",
    "            'win_rate': len(sentiment_data[sentiment_data['daily_pnl'] > 0]) / len(sentiment_data) if len(sentiment_data) > 0 else 0\n",
    "        }\n",
    "\n",
    "# Display sentiment summary\n",
    "for sentiment, metrics in sentiment_summary.items():\n",
    "    print(f\"\\n{sentiment}:\")\n",
    "    print(f\"  Trading Days: {metrics['days']}\")\n",
    "    print(f\"  Avg Volume: ${metrics['avg_volume']:,.2f}\")\n",
    "    print(f\"  Avg Daily P&L: ${metrics['avg_pnl']:,.2f}\")\n",
    "    print(f\"  Avg Trades/Day: {metrics['avg_trades']:.1f}\")\n",
    "    print(f\"  Win Rate: {metrics['win_rate']:.1%}\")\n",
    "\n",
    "# Statistical significance testing\n",
    "print(\"\\n2. STATISTICAL SIGNIFICANCE TESTS\")\n",
    "print(\"-\" * 35)\n",
    "\n",
    "sentiment_groups = list(sentiment_summary.keys())\n",
    "if len(sentiment_groups) >= 2:\n",
    "    for metric in ['daily_volume', 'daily_pnl', 'trade_count']:\n",
    "        if metric in merged_data.columns:\n",
    "            groups_data = []\n",
    "            for sentiment in sentiment_groups:\n",
    "                group_data = merged_data[merged_data['classification'] == sentiment][metric].dropna()\n",
    "                if len(group_data) > 1:\n",
    "                    groups_data.append(group_data)\n",
    "\n",
    "            if len(groups_data) >= 2:\n",
    "                try:\n",
    "                    f_stat, p_value = stats.f_oneway(*groups_data)\n",
    "                    significance = \"***\" if p_value < 0.001 else \"**\" if p_value < 0.01 else \"*\" if p_value < 0.05 else \"ns\"\n",
    "                    print(f\"{metric}: F={f_stat:.3f}, p={p_value:.4f} {significance}\")\n",
    "                except:\n",
    "                    print(f\"{metric}: Unable to calculate significance\")"
   ]
  },
  {
   "cell_type": "markdown",
   "id": "wZb32YyrGkX8",
   "metadata": {
    "id": "wZb32YyrGkX8"
   },
   "source": [
    "#  INSIGHTS GENERATION"
   ]
  },
  {
   "cell_type": "code",
   "execution_count": 9,
   "id": "94YvEaJmGs-0",
   "metadata": {
    "colab": {
     "base_uri": "https://localhost:8080/"
    },
    "executionInfo": {
     "elapsed": 21,
     "status": "ok",
     "timestamp": 1758911673679,
     "user": {
      "displayName": "Raj gupta",
      "userId": "08186548929443760862"
     },
     "user_tz": -330
    },
    "id": "94YvEaJmGs-0",
    "outputId": "6b768335-04b9-4cef-a6d1-46370f66a614"
   },
   "outputs": [
    {
     "name": "stdout",
     "output_type": "stream",
     "text": [
      "\n",
      "🎯 GENERATED 5 KEY INSIGHTS:\n",
      "==================================================\n",
      "1. VOLUME INSIGHT: 4.23x higher trading volume during fear phases\n",
      "2. CONTRARIAN OPPORTUNITY: $39012.05 avg daily P&L during fear vs $15847.88 during greed\n",
      "3. CORRELATION: value is positively correlated with sentiment (r=1.000)\n",
      "4. CORRELATION: sentiment_ma_7d is positively correlated with sentiment (r=0.922)\n",
      "5. CORRELATION: sentiment_volatility_30d is negatively correlated with sentiment (r=-0.602)\n"
     ]
    }
   ],
   "source": [
    "insights = []\n",
    "\n",
    "# Volume insights\n",
    "fear_sentiments = ['Fear', 'Extreme Fear']\n",
    "greed_sentiments = ['Greed', 'Extreme Greed']\n",
    "\n",
    "fear_data = merged_data[merged_data['classification'].isin(fear_sentiments)]\n",
    "greed_data = merged_data[merged_data['classification'].isin(greed_sentiments)]\n",
    "\n",
    "if len(fear_data) > 0 and len(greed_data) > 0:\n",
    "    fear_volume = fear_data['daily_volume'].mean()\n",
    "    greed_volume = greed_data['daily_volume'].mean()\n",
    "\n",
    "    if greed_volume > fear_volume * 1.2:\n",
    "        volume_ratio = greed_volume / fear_volume\n",
    "        insights.append(f\"VOLUME INSIGHT: {volume_ratio:.2f}x higher trading volume during greed phases\")\n",
    "    elif fear_volume > greed_volume * 1.2:\n",
    "        volume_ratio = fear_volume / greed_volume\n",
    "        insights.append(f\"VOLUME INSIGHT: {volume_ratio:.2f}x higher trading volume during fear phases\")\n",
    "\n",
    "    # Profitability insights\n",
    "    fear_pnl = fear_data['daily_pnl'].mean()\n",
    "    greed_pnl = greed_data['daily_pnl'].mean()\n",
    "\n",
    "    if fear_pnl > greed_pnl:\n",
    "        insights.append(f\"CONTRARIAN OPPORTUNITY: ${fear_pnl:.2f} avg daily P&L during fear vs ${greed_pnl:.2f} during greed\")\n",
    "    elif greed_pnl > fear_pnl:\n",
    "        insights.append(f\"MOMENTUM STRATEGY: ${greed_pnl:.2f} avg daily P&L during greed vs ${fear_pnl:.2f} during fear\")\n",
    "\n",
    "    # Risk insights\n",
    "    fear_volatility = fear_data['pnl_volatility'].mean()\n",
    "    greed_volatility = greed_data['pnl_volatility'].mean()\n",
    "\n",
    "    if greed_volatility > fear_volatility * 1.3:\n",
    "        insights.append(f\"RISK PATTERN: {greed_volatility/fear_volatility:.2f}x higher P&L volatility during greed periods\")\n",
    "\n",
    "    # Trade frequency insights\n",
    "    fear_trades = fear_data['trade_count'].mean()\n",
    "    greed_trades = greed_data['trade_count'].mean()\n",
    "\n",
    "    if greed_trades > fear_trades * 1.2:\n",
    "        trade_ratio = greed_trades / fear_trades\n",
    "        insights.append(f\"ACTIVITY PATTERN: {trade_ratio:.2f}x more trades per day during greed phases\")\n",
    "\n",
    "# Correlation insights\n",
    "if 'sentiment_normalized' in corr_matrix.columns:\n",
    "    top_correlations = sentiment_correlations.abs().sort_values(ascending=False).head(3)\n",
    "    for var, abs_corr in top_correlations.items():\n",
    "        actual_corr = sentiment_correlations[var]\n",
    "        if abs_corr > 0.3:\n",
    "            direction = \"positively\" if actual_corr > 0 else \"negatively\"\n",
    "            insights.append(f\"CORRELATION: {var} is {direction} correlated with sentiment (r={actual_corr:.3f})\")\n",
    "\n",
    "# Display insights\n",
    "print(f\"\\n🎯 GENERATED {len(insights)} KEY INSIGHTS:\")\n",
    "print(\"=\" * 50)\n",
    "for i, insight in enumerate(insights, 1):\n",
    "    print(f\"{i}. {insight}\")\n",
    "\n"
   ]
  },
  {
   "cell_type": "markdown",
   "id": "GgTg4zNUG9mq",
   "metadata": {
    "id": "GgTg4zNUG9mq"
   },
   "source": [
    "#  VISUALIZATION GENERATION"
   ]
  },
  {
   "cell_type": "code",
   "execution_count": 10,
   "id": "pclK8jzQHSHC",
   "metadata": {
    "colab": {
     "base_uri": "https://localhost:8080/"
    },
    "executionInfo": {
     "elapsed": 6335,
     "status": "ok",
     "timestamp": 1758911680016,
     "user": {
      "displayName": "Raj gupta",
      "userId": "08186548929443760862"
     },
     "user_tz": -330
    },
    "id": "pclK8jzQHSHC",
    "outputId": "6acbe0cd-8aeb-4815-fd16-ec1386a8f71c"
   },
   "outputs": [
    {
     "name": "stdout",
     "output_type": "stream",
     "text": [
      "✅ Saved: comprehensive_analysis_dashboard.png\n",
      "✅ Saved: correlation_heatmap.png\n",
      "✅ Visualizations generated successfully\n"
     ]
    }
   ],
   "source": [
    "try:\n",
    "    # 1. Sentiment Timeline\n",
    "    fig, axes = plt.subplots(2, 2, figsize=(20, 12))\n",
    "\n",
    "    # Main timeline\n",
    "    axes[0,0].plot(fear_greed_df['date_parsed'], fear_greed_df['value'], linewidth=2, alpha=0.8, color='darkblue')\n",
    "    axes[0,0].fill_between(fear_greed_df['date_parsed'], fear_greed_df['value'], alpha=0.3, color='lightblue')\n",
    "    axes[0,0].axhline(y=50, color='gray', linestyle='--', alpha=0.7, label='Neutral')\n",
    "    axes[0,0].axhline(y=25, color='red', linestyle='--', alpha=0.5, label='Fear Threshold')\n",
    "    axes[0,0].axhline(y=75, color='green', linestyle='--', alpha=0.5, label='Greed Threshold')\n",
    "    axes[0,0].set_title('Bitcoin Fear & Greed Index Timeline', fontsize=14, fontweight='bold')\n",
    "    axes[0,0].set_xlabel('Date')\n",
    "    axes[0,0].set_ylabel('Fear & Greed Value')\n",
    "    axes[0,0].legend()\n",
    "    axes[0,0].grid(True, alpha=0.3)\n",
    "\n",
    "    # Sentiment distribution\n",
    "    sentiment_counts = fear_greed_df['classification'].value_counts()\n",
    "    colors = ['#ff4444', '#ff9999', '#ffff99', '#99ff99', '#44ff44'][:len(sentiment_counts)]\n",
    "    axes[0,1].pie(sentiment_counts.values, labels=sentiment_counts.index, autopct='%1.1f%%',\n",
    "                 colors=colors, startangle=90)\n",
    "    axes[0,1].set_title('Distribution of Sentiment Classifications', fontsize=14, fontweight='bold')\n",
    "\n",
    "    # Trading volume by sentiment\n",
    "    if len(merged_data) > 0:\n",
    "        sentiment_volume = merged_data.groupby('classification')['daily_volume'].mean()\n",
    "        axes[1,0].bar(sentiment_volume.index, sentiment_volume.values, alpha=0.7, color='darkgreen')\n",
    "        axes[1,0].set_title('Average Daily Volume by Sentiment', fontsize=14, fontweight='bold')\n",
    "        axes[1,0].set_ylabel('Daily Volume (USD)')\n",
    "        axes[1,0].tick_params(axis='x', rotation=45)\n",
    "        axes[1,0].grid(True, alpha=0.3)\n",
    "\n",
    "    # P&L by sentiment\n",
    "    if len(merged_data) > 0 and 'daily_pnl' in merged_data.columns:\n",
    "        sentiment_pnl = merged_data.groupby('classification')['daily_pnl'].mean()\n",
    "        colors_pnl = ['red' if x < 0 else 'green' for x in sentiment_pnl.values]\n",
    "        axes[1,1].bar(sentiment_pnl.index, sentiment_pnl.values, alpha=0.7, color=colors_pnl)\n",
    "        axes[1,1].axhline(y=0, color='black', linestyle='-', alpha=0.5)\n",
    "        axes[1,1].set_title('Average Daily P&L by Sentiment', fontsize=14, fontweight='bold')\n",
    "        axes[1,1].set_ylabel('Daily P&L (USD)')\n",
    "        axes[1,1].tick_params(axis='x', rotation=45)\n",
    "        axes[1,1].grid(True, alpha=0.3)\n",
    "\n",
    "    plt.tight_layout()\n",
    "    plt.savefig('ds_RAJ_GUPTA/outputs/comprehensive_analysis_dashboard.png', dpi=300, bbox_inches='tight')\n",
    "    plt.close()\n",
    "    print(\"✅ Saved: comprehensive_analysis_dashboard.png\")\n",
    "\n",
    "    # 2. Correlation Heatmap\n",
    "    if len(correlation_vars) > 1:\n",
    "        plt.figure(figsize=(28, 20))\n",
    "        mask = np.triu(np.ones_like(corr_matrix, dtype=bool))\n",
    "        sns.heatmap(corr_matrix, mask=mask, annot=True, cmap='RdYlBu_r', center=0,\n",
    "                   square=True, linewidths=0.5, cbar_kws={\"shrink\": 0.8}, fmt='.3f')\n",
    "        plt.title('Correlation Matrix: Trading Metrics vs Market Sentiment', fontsize=16, fontweight='bold')\n",
    "        plt.tight_layout()\n",
    "        plt.savefig('ds_RAJ_GUPTA/outputs/correlation_heatmap.png', dpi=300, bbox_inches='tight')\n",
    "        plt.close()\n",
    "        print(\"✅ Saved: correlation_heatmap.png\")\n",
    "\n",
    "    print(\"✅ Visualizations generated successfully\")\n",
    "\n",
    "except Exception as e:\n",
    "    print(f\"⚠️  Error generating visualizations: {e}\")"
   ]
  },
  {
   "cell_type": "markdown",
   "id": "7NW8b79HHTQ_",
   "metadata": {
    "id": "7NW8b79HHTQ_"
   },
   "source": [
    "#  CSV DATA EXPORT"
   ]
  },
  {
   "cell_type": "code",
   "execution_count": 11,
   "id": "5DjhW9h-FNb0",
   "metadata": {
    "colab": {
     "base_uri": "https://localhost:8080/"
    },
    "executionInfo": {
     "elapsed": 96,
     "status": "ok",
     "timestamp": 1758911680124,
     "user": {
      "displayName": "Raj gupta",
      "userId": "08186548929443760862"
     },
     "user_tz": -330
    },
    "id": "5DjhW9h-FNb0",
    "outputId": "5ecbd149-ad1a-4de9-fe27-3cb1d8ddd155"
   },
   "outputs": [
    {
     "name": "stdout",
     "output_type": "stream",
     "text": [
      "✅ merged_sentiment_trading.csv (479 records)\n",
      "✅ daily_trading_summary.csv (480 records)\n",
      "✅ sentiment_performance_metrics.csv (5 sentiment categories)\n",
      "✅ correlation_results.csv (378 correlation pairs)\n"
     ]
    }
   ],
   "source": [
    "\n",
    "\n",
    "# 1. Merged sentiment-trading data\n",
    "if len(merged_data) > 0:\n",
    "    merged_export = merged_data.copy()\n",
    "    merged_export['date'] = merged_export['date_parsed'].dt.strftime('%Y-%m-%d')\n",
    "    merged_export = merged_export.drop('date_parsed', axis=1)\n",
    "    merged_export.to_csv('ds_RAJ_GUPTA/csv_files/merged_sentiment_trading.csv', index=False)\n",
    "    print(f\"✅ merged_sentiment_trading.csv ({len(merged_export)} records)\")\n",
    "\n",
    "# 2. Daily trading summary\n",
    "daily_export = daily_trading.copy()\n",
    "daily_export['date'] = daily_export['date_parsed'].dt.strftime('%Y-%m-%d')\n",
    "daily_export = daily_export.drop('date_parsed', axis=1)\n",
    "daily_export.to_csv('ds_RAJ_GUPTA/csv_files/daily_trading_summary.csv', index=False)\n",
    "print(f\"✅ daily_trading_summary.csv ({len(daily_export)} records)\")\n",
    "\n",
    "# 3. Sentiment performance metrics\n",
    "if sentiment_summary:\n",
    "    sentiment_perf_data = []\n",
    "    for sentiment, metrics in sentiment_summary.items():\n",
    "        sentiment_perf_data.append({\n",
    "            'sentiment_classification': sentiment,\n",
    "            'trading_days': metrics['days'],\n",
    "            'avg_daily_volume': round(metrics['avg_volume'], 2),\n",
    "            'avg_daily_pnl': round(metrics['avg_pnl'], 2),\n",
    "            'total_pnl': round(metrics['total_pnl'], 2),\n",
    "            'avg_trades_per_day': round(metrics['avg_trades'], 1),\n",
    "            'win_rate': round(metrics['win_rate'], 3),\n",
    "            'profitability_rank': 0  # Will be filled below\n",
    "        })\n",
    "\n",
    "    sentiment_perf_df = pd.DataFrame(sentiment_perf_data)\n",
    "    sentiment_perf_df['profitability_rank'] = sentiment_perf_df['avg_daily_pnl'].rank(ascending=False).astype(int)\n",
    "    sentiment_perf_df.to_csv('ds_RAJ_GUPTA/csv_files/sentiment_performance_metrics.csv', index=False)\n",
    "    print(f\"✅ sentiment_performance_metrics.csv ({len(sentiment_perf_df)} sentiment categories)\")\n",
    "\n",
    "# 4. Correlation results\n",
    "if len(correlation_vars) > 1:\n",
    "    correlation_results = []\n",
    "    for i, var1 in enumerate(correlation_vars):\n",
    "        for j, var2 in enumerate(correlation_vars):\n",
    "            if i < j:\n",
    "                corr_val = corr_matrix.loc[var1, var2]\n",
    "                correlation_results.append({\n",
    "                    'variable_1': var1,\n",
    "                    'variable_2': var2,\n",
    "                    'correlation_coefficient': round(corr_val, 6),\n",
    "                    'correlation_strength': 'Strong' if abs(corr_val) > 0.7 else 'Moderate' if abs(corr_val) > 0.3 else 'Weak',\n",
    "                    'correlation_direction': 'Positive' if corr_val > 0 else 'Negative',\n",
    "                    'abs_correlation': abs(corr_val)\n",
    "                })\n",
    "\n",
    "    correlation_df = pd.DataFrame(correlation_results)\n",
    "    correlation_df = correlation_df.sort_values('abs_correlation', ascending=False).drop('abs_correlation', axis=1)\n",
    "    correlation_df.to_csv('ds_RAJ_GUPTA/csv_files/correlation_results.csv', index=False)\n",
    "    print(f\"✅ correlation_results.csv ({len(correlation_df)} correlation pairs)\")"
   ]
  }
 ],
 "metadata": {
  "colab": {
   "collapsed_sections": [
    "MtrqSY_THiSr",
    "Yn8cyrZLF6SQ",
    "ft69FlEbGBuZ",
    "1R5INaW_GSxD",
    "0yQfqSaQGZuv",
    "wZb32YyrGkX8",
    "7NW8b79HHTQ_"
   ],
   "provenance": []
  },
  "kernelspec": {
   "display_name": "base",
   "language": "python",
   "name": "python3"
  },
  "language_info": {
   "codemirror_mode": {
    "name": "ipython",
    "version": 3
   },
   "file_extension": ".py",
   "mimetype": "text/x-python",
   "name": "python",
   "nbconvert_exporter": "python",
   "pygments_lexer": "ipython3",
   "version": "3.13.5"
  }
 },
 "nbformat": 4,
 "nbformat_minor": 5
}
